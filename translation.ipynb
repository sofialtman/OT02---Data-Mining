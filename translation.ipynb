{
 "cells": [
  {
   "cell_type": "code",
   "execution_count": 1,
   "metadata": {},
   "outputs": [],
   "source": [
    "import pandas as pd"
   ]
  },
  {
   "cell_type": "markdown",
   "metadata": {},
   "source": [
    "### Save predictions"
   ]
  },
  {
   "cell_type": "markdown",
   "metadata": {},
   "source": [
    "#### Translate categories back to battleneturls"
   ]
  },
  {
   "cell_type": "code",
   "execution_count": 32,
   "metadata": {},
   "outputs": [],
   "source": [
    "def create_kaggle_submission (predictions):\n",
    "    \"\"\"takes the prediction from the models and converts it into the correct format for kaggle submission\n",
    "\n",
    "    Args:\n",
    "        predictions (dataframe): file containing a single column with the predicted classes\n",
    "\n",
    "    Returns:\n",
    "        dataframe: dataframe in the correct format for the kaggle submission (IdRow | prediction) with the classes translated back to battleneturls\n",
    "    \"\"\"\n",
    "    df_translation = pd.read_csv('data/output/translation.csv')\n",
    "    # Create a mapping dictionary from the 'translations' DataFrame\n",
    "    translation_dict = dict(zip(df_translation['battleneturl'], df_translation['url']))\n",
    "    # Translate the codes in 'df'\n",
    "    predictions['RowId'] = range(1, len(predictions) + 1)\n",
    "    predictions['prediction'] = predictions['prediction'].map(translation_dict)\n",
    "\n",
    "    return predictions"
   ]
  },
  {
   "cell_type": "code",
   "execution_count": 41,
   "metadata": {},
   "outputs": [
    {
     "name": "stdout",
     "output_type": "stream",
     "text": [
      "Index(['RowId', 'prediction'], dtype='object')\n"
     ]
    }
   ],
   "source": [
    "predictions = pd.read_csv('data/predictions/predictions_fr_kaggle_test.csv')\n",
    "# Check the column names in the predictions dataframe\n",
    "print(predictions.columns)\n"
   ]
  },
  {
   "cell_type": "code",
   "execution_count": 42,
   "metadata": {},
   "outputs": [],
   "source": [
    "create_kaggle_submission(predictions).to_csv('data/predictions/predictions_fr_kaggle_test.csv', index=False)"
   ]
  }
 ],
 "metadata": {
  "kernelspec": {
   "display_name": ".venv",
   "language": "python",
   "name": "python3"
  },
  "language_info": {
   "codemirror_mode": {
    "name": "ipython",
    "version": 3
   },
   "file_extension": ".py",
   "mimetype": "text/x-python",
   "name": "python",
   "nbconvert_exporter": "python",
   "pygments_lexer": "ipython3",
   "version": "3.13.1"
  }
 },
 "nbformat": 4,
 "nbformat_minor": 2
}
