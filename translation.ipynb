{
 "cells": [
  {
   "cell_type": "code",
   "execution_count": 1,
   "metadata": {},
   "outputs": [],
   "source": [
    "import pandas as pd"
   ]
  },
  {
   "cell_type": "markdown",
   "metadata": {},
   "source": [
    "### Save predictions"
   ]
  },
  {
   "cell_type": "markdown",
   "metadata": {},
   "source": [
    "#### Translate categories back to battleneturls"
   ]
  },
  {
   "cell_type": "code",
   "execution_count": 2,
   "metadata": {},
   "outputs": [],
   "source": [
    "def create_kaggle_submission (predictions):\n",
    "    \"\"\"takes the prediction from the models and converts it into the correct format for kaggle submission\n",
    "\n",
    "    Args:\n",
    "        predictions (dataframe): file containing a single column with the predicted classes\n",
    "\n",
    "    Returns:\n",
    "        dataframe: dataframe in the correct format for the kaggle submission (IdRow | prediction) with the classes translated back to battleneturls\n",
    "    \"\"\"\n",
    "    df_translation = pd.read_csv('data/output/translation.csv')\n",
    "    # Create a mapping dictionary from the 'translations' DataFrame\n",
    "    translation_dict = dict(zip(df_translation['battleneturl'], df_translation['url']))\n",
    "    # Translate the codes in 'df'\n",
    "    predictions['RowId'] = range(1, len(predictions) + 1)\n",
    "    predictions['prediction'] = predictions['0'].map(translation_dict)\n",
    "    predictions = predictions.drop(['0'], axis=1)\n",
    "\n",
    "    return predictions"
   ]
  },
  {
   "cell_type": "code",
   "execution_count": 3,
   "metadata": {},
   "outputs": [],
   "source": [
    "predictions = pd.read_csv('data/predictions/predictions_kaggle6.csv')"
   ]
  },
  {
   "cell_type": "code",
   "execution_count": 4,
   "metadata": {},
   "outputs": [],
   "source": [
    "create_kaggle_submission(predictions).to_csv('data/predictions/predictions_translated6.csv', index=False)"
   ]
  }
 ],
 "metadata": {
  "kernelspec": {
   "display_name": "ml",
   "language": "python",
   "name": "python3"
  },
  "language_info": {
   "codemirror_mode": {
    "name": "ipython",
    "version": 3
   },
   "file_extension": ".py",
   "mimetype": "text/x-python",
   "name": "python",
   "nbconvert_exporter": "python",
   "pygments_lexer": "ipython3",
   "version": "3.13.1"
  }
 },
 "nbformat": 4,
 "nbformat_minor": 2
}
